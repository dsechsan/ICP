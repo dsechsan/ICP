{
 "cells": [
  {
   "cell_type": "code",
   "execution_count": 2,
   "metadata": {},
   "outputs": [],
   "source": [
    "from PIL import Image, ImageDraw, ImageFont\n",
    "import imageio\n",
    "import os"
   ]
  },
  {
   "cell_type": "code",
   "execution_count": 7,
   "metadata": {},
   "outputs": [],
   "source": [
    "input_folder = \"/Users/dsechs/Library/CloudStorage/OneDrive-UCSanDiego/Desktop/Cpp/pointclouds/frames/\"\n",
    "output_gif_path = \"output60.gif\""
   ]
  },
  {
   "cell_type": "code",
   "execution_count": 84,
   "metadata": {},
   "outputs": [],
   "source": [
    "font_path = \"/System/Library/Fonts/Supplemental/Microsoft Sans Serif.ttf\"\n",
    "font_size_iter = 55\n",
    "font_size_title = 70\n",
    "font_color_iter = (0,0,0)\n",
    "font_color_title = (0,100,0)\n",
    "\n",
    "font_size_legend = 40\n",
    "font_color_source = (0,0,128)\n",
    "font_color_current = (230,230,0)\n",
    "font_color_target = (128,0,0)\n"
   ]
  },
  {
   "cell_type": "code",
   "execution_count": 87,
   "metadata": {},
   "outputs": [],
   "source": [
    "def add_text_to_image(image_path, iter_text, title,source,target,current):\n",
    "    image = Image.open(image_path)\n",
    "    draw = ImageDraw.Draw(image)\n",
    "\n",
    "    try:\n",
    "        font_iter = ImageFont.truetype(font_path, font_size_iter)\n",
    "        font_title = ImageFont.truetype(font_path, font_size_title)\n",
    "        font_legend = ImageFont.truetype(font_path, 40)\n",
    "    except IOError:\n",
    "        font_iter = ImageFont.load_default()  \n",
    "\n",
    "    iter_text_position = (200, 300)\n",
    "    title_text_position = (550,30)\n",
    "    \n",
    "    legend_source_pos = (230,400)\n",
    "    legend_target_pos = (230,475)\n",
    "    legend_current_pos = (230,550)\n",
    "\n",
    "    draw.text(iter_text_position, iter_text, font=font_iter, fill=font_color_iter)\n",
    "    draw.text(title_text_position,title, font = font_title, fill = font_color_title)\n",
    "\n",
    "    draw.text(legend_source_pos,source, font = font_legend, fill = font_color_source)\n",
    "    draw.text(legend_target_pos,target, font = font_legend, fill = font_color_target)\n",
    "    draw.text(legend_current_pos,current, font = font_legend, fill = font_color_current)\n",
    "    \n",
    "    \n",
    "\n",
    "    return image"
   ]
  },
  {
   "cell_type": "code",
   "execution_count": 88,
   "metadata": {},
   "outputs": [
    {
     "name": "stdout",
     "output_type": "stream",
     "text": [
      "GIF created successfully: output60.gif\n"
     ]
    }
   ],
   "source": [
    "import re\n",
    "def extract_number(filename):\n",
    "    match = re.search(r'\\d+', filename)\n",
    "    return int(match.group()) if match else float('inf') \n",
    "\n",
    "# Collect and sort images numerically\n",
    "images = []\n",
    "for filename in sorted(os.listdir(input_folder), key=extract_number):\n",
    "    if filename.endswith(\".png\"):  \n",
    "        frame_number = extract_number(filename)  \n",
    "        image_path = os.path.join(input_folder, filename)\n",
    "        \n",
    "        annotated_image = add_text_to_image(image_path, f\"Iteration: {frame_number}\", \"ICP Visualization\", \"Source\", \"Target\",\"Current\")\n",
    "        images.append(annotated_image)\n",
    "\n",
    "images[0].save(\n",
    "    output_gif_path,\n",
    "    save_all=True,\n",
    "    append_images=images[1:],  \n",
    "    duration=200,  \n",
    "    loop=0  \n",
    ")\n",
    "\n",
    "print(f\"GIF created successfully: {output_gif_path}\")"
   ]
  },
  {
   "cell_type": "code",
   "execution_count": null,
   "metadata": {},
   "outputs": [],
   "source": []
  },
  {
   "cell_type": "code",
   "execution_count": null,
   "metadata": {},
   "outputs": [],
   "source": []
  }
 ],
 "metadata": {
  "kernelspec": {
   "display_name": "image",
   "language": "python",
   "name": "python3"
  },
  "language_info": {
   "codemirror_mode": {
    "name": "ipython",
    "version": 3
   },
   "file_extension": ".py",
   "mimetype": "text/x-python",
   "name": "python",
   "nbconvert_exporter": "python",
   "pygments_lexer": "ipython3",
   "version": "3.11.6"
  }
 },
 "nbformat": 4,
 "nbformat_minor": 2
}
